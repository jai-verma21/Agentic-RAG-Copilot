{
  "nbformat": 4,
  "nbformat_minor": 0,
  "metadata": {
    "colab": {
      "provenance": []
    },
    "kernelspec": {
      "name": "python3",
      "display_name": "Python 3"
    },
    "language_info": {
      "name": "python"
    }
  },
  "cells": [
    {
      "cell_type": "code",
      "execution_count": null,
      "metadata": {
        "id": "0UbJI2ygUH5X"
      },
      "outputs": [],
      "source": [
        "%%capture --no-stderr\n",
        "%pip install -U --quiet langgraph \"langchain[openai]\" langchain-community langchain-text-splitters"
      ]
    },
    {
      "cell_type": "code",
      "source": [
        "import getpass\n",
        "import os\n",
        "\n",
        "\n",
        "def _set_env(key: str):\n",
        "    if key not in os.environ:\n",
        "        os.environ[key] = getpass.getpass(f\"{key}:\")\n",
        "\n",
        "\n",
        "_set_env(\"OPENAI_API_KEY\")"
      ],
      "metadata": {
        "id": "ImGAFC1OUWUD"
      },
      "execution_count": null,
      "outputs": []
    },
    {
      "cell_type": "code",
      "source": [
        "from langchain_community.document_loaders import WebBaseLoader\n",
        "\n",
        "urls = [\n",
        "    \"https://lilianweng.github.io/posts/2024-11-28-reward-hacking/\",\n",
        "    \"https://lilianweng.github.io/posts/2024-07-07-hallucination/\",\n",
        "    \"https://lilianweng.github.io/posts/2024-04-12-diffusion-video/\",\n",
        "]\n",
        "\n",
        "docs = [WebBaseLoader(url).load() for url in urls]"
      ],
      "metadata": {
        "id": "WD-eXKW0UYkZ"
      },
      "execution_count": null,
      "outputs": []
    },
    {
      "cell_type": "code",
      "source": [
        "docs[0][0].page_content.strip()[:1000]"
      ],
      "metadata": {
        "id": "D8V6UXKaUaWq"
      },
      "execution_count": null,
      "outputs": []
    },
    {
      "cell_type": "code",
      "source": [
        "from langchain_text_splitters import RecursiveCharacterTextSplitter\n",
        "\n",
        "docs_list = [item for sublist in docs for item in sublist]\n",
        "\n",
        "text_splitter = RecursiveCharacterTextSplitter.from_tiktoken_encoder(\n",
        "    chunk_size=100, chunk_overlap=50\n",
        ")\n",
        "doc_splits = text_splitter.split_documents(docs_list)"
      ],
      "metadata": {
        "id": "SExDIpfGUcqx"
      },
      "execution_count": null,
      "outputs": []
    },
    {
      "cell_type": "code",
      "source": [
        "doc_splits[0].page_content.strip()"
      ],
      "metadata": {
        "id": "oNi-d98BUeEP"
      },
      "execution_count": null,
      "outputs": []
    },
    {
      "cell_type": "code",
      "source": [
        "from langchain_core.vectorstores import InMemoryVectorStore\n",
        "from langchain_openai import OpenAIEmbeddings\n",
        "\n",
        "vectorstore = InMemoryVectorStore.from_documents(\n",
        "    documents=doc_splits, embedding=OpenAIEmbeddings()\n",
        ")\n",
        "retriever = vectorstore.as_retriever()"
      ],
      "metadata": {
        "id": "4pjC9KkUUfhc"
      },
      "execution_count": null,
      "outputs": []
    },
    {
      "cell_type": "code",
      "source": [
        "from langchain.tools.retriever import create_retriever_tool\n",
        "\n",
        "retriever_tool = create_retriever_tool(\n",
        "    retriever,\n",
        "    \"retrieve_blog_posts\",\n",
        "    \"Search and return information about Lilian Weng blog posts.\",\n",
        ")"
      ],
      "metadata": {
        "id": "MNK89NhfUhD0"
      },
      "execution_count": null,
      "outputs": []
    },
    {
      "cell_type": "code",
      "source": [
        "retriever_tool.invoke({\"query\": \"types of reward hacking\"})"
      ],
      "metadata": {
        "id": "u80UWCXIUisc"
      },
      "execution_count": null,
      "outputs": []
    },
    {
      "cell_type": "code",
      "source": [
        "from langgraph.graph import MessagesState\n",
        "from langchain.chat_models import init_chat_model\n",
        "\n",
        "response_model = init_chat_model(\"openai:gpt-4.1\", temperature=0)\n",
        "\n",
        "\n",
        "def generate_query_or_respond(state: MessagesState):\n",
        "    \"\"\"Call the model to generate a response based on the current state. Given\n",
        "    the question, it will decide to retrieve using the retriever tool, or simply respond to the user.\n",
        "    \"\"\"\n",
        "    response = (\n",
        "        response_model\n",
        "        .bind_tools([retriever_tool]).invoke(state[\"messages\"])\n",
        "    )\n",
        "    return {\"messages\": [response]}"
      ],
      "metadata": {
        "id": "gQQnSo1FUkkr"
      },
      "execution_count": null,
      "outputs": []
    },
    {
      "cell_type": "code",
      "source": [
        "input = {\"messages\": [{\"role\": \"user\", \"content\": \"hello!\"}]}\n",
        "generate_query_or_respond(input)[\"messages\"][-1].pretty_print()"
      ],
      "metadata": {
        "id": "EMlBKaJqUmGr"
      },
      "execution_count": null,
      "outputs": []
    },
    {
      "cell_type": "code",
      "source": [
        "input = {\n",
        "    \"messages\": [\n",
        "        {\n",
        "            \"role\": \"user\",\n",
        "            \"content\": \"What does Lilian Weng say about types of reward hacking?\",\n",
        "        }\n",
        "    ]\n",
        "}\n",
        "generate_query_or_respond(input)[\"messages\"][-1].pretty_print()"
      ],
      "metadata": {
        "id": "LE-F4G-JUrJk"
      },
      "execution_count": null,
      "outputs": []
    },
    {
      "cell_type": "code",
      "source": [
        "from pydantic import BaseModel, Field\n",
        "from typing import Literal\n",
        "\n",
        "GRADE_PROMPT = (\n",
        "    \"You are a grader assessing relevance of a retrieved document to a user question. \\n \"\n",
        "    \"Here is the retrieved document: \\n\\n {context} \\n\\n\"\n",
        "    \"Here is the user question: {question} \\n\"\n",
        "    \"If the document contains keyword(s) or semantic meaning related to the user question, grade it as relevant. \\n\"\n",
        "    \"Give a binary score 'yes' or 'no' score to indicate whether the document is relevant to the question.\"\n",
        ")\n",
        "\n",
        "\n",
        "class GradeDocuments(BaseModel):\n",
        "    \"\"\"Grade documents using a binary score for relevance check.\"\"\"\n",
        "\n",
        "    binary_score: str = Field(\n",
        "        description=\"Relevance score: 'yes' if relevant, or 'no' if not relevant\"\n",
        "    )\n",
        "\n",
        "\n",
        "grader_model = init_chat_model(\"openai:gpt-4.1\", temperature=0)\n",
        "\n",
        "\n",
        "def grade_documents(\n",
        "    state: MessagesState,\n",
        ") -> Literal[\"generate_answer\", \"rewrite_question\"]:\n",
        "    \"\"\"Determine whether the retrieved documents are relevant to the question.\"\"\"\n",
        "    question = state[\"messages\"][0].content\n",
        "    context = state[\"messages\"][-1].content\n",
        "\n",
        "    prompt = GRADE_PROMPT.format(question=question, context=context)\n",
        "    response = (\n",
        "        grader_model\n",
        "        .with_structured_output(GradeDocuments).invoke(\n",
        "            [{\"role\": \"user\", \"content\": prompt}]\n",
        "        )\n",
        "    )\n",
        "    score = response.binary_score\n",
        "\n",
        "    if score == \"yes\":\n",
        "        return \"generate_answer\"\n",
        "    else:\n",
        "        return \"rewrite_question\""
      ],
      "metadata": {
        "id": "8DtKkkUZUsrj"
      },
      "execution_count": null,
      "outputs": []
    },
    {
      "cell_type": "code",
      "source": [
        "from langchain_core.messages import convert_to_messages\n",
        "\n",
        "input = {\n",
        "    \"messages\": convert_to_messages(\n",
        "        [\n",
        "            {\n",
        "                \"role\": \"user\",\n",
        "                \"content\": \"What does Lilian Weng say about types of reward hacking?\",\n",
        "            },\n",
        "            {\n",
        "                \"role\": \"assistant\",\n",
        "                \"content\": \"\",\n",
        "                \"tool_calls\": [\n",
        "                    {\n",
        "                        \"id\": \"1\",\n",
        "                        \"name\": \"retrieve_blog_posts\",\n",
        "                        \"args\": {\"query\": \"types of reward hacking\"},\n",
        "                    }\n",
        "                ],\n",
        "            },\n",
        "            {\"role\": \"tool\", \"content\": \"meow\", \"tool_call_id\": \"1\"},\n",
        "        ]\n",
        "    )\n",
        "}\n",
        "grade_documents(input)"
      ],
      "metadata": {
        "id": "utwQtPiDUvA7"
      },
      "execution_count": null,
      "outputs": []
    },
    {
      "cell_type": "code",
      "source": [
        "input = {\n",
        "    \"messages\": convert_to_messages(\n",
        "        [\n",
        "            {\n",
        "                \"role\": \"user\",\n",
        "                \"content\": \"What does Lilian Weng say about types of reward hacking?\",\n",
        "            },\n",
        "            {\n",
        "                \"role\": \"assistant\",\n",
        "                \"content\": \"\",\n",
        "                \"tool_calls\": [\n",
        "                    {\n",
        "                        \"id\": \"1\",\n",
        "                        \"name\": \"retrieve_blog_posts\",\n",
        "                        \"args\": {\"query\": \"types of reward hacking\"},\n",
        "                    }\n",
        "                ],\n",
        "            },\n",
        "            {\n",
        "                \"role\": \"tool\",\n",
        "                \"content\": \"reward hacking can be categorized into two types: environment or goal misspecification, and reward tampering\",\n",
        "                \"tool_call_id\": \"1\",\n",
        "            },\n",
        "        ]\n",
        "    )\n",
        "}\n",
        "grade_documents(input)"
      ],
      "metadata": {
        "id": "iS4fKFFmUwwl"
      },
      "execution_count": null,
      "outputs": []
    },
    {
      "cell_type": "code",
      "source": [
        "REWRITE_PROMPT = (\n",
        "    \"Look at the input and try to reason about the underlying semantic intent / meaning.\\n\"\n",
        "    \"Here is the initial question:\"\n",
        "    \"\\n ------- \\n\"\n",
        "    \"{question}\"\n",
        "    \"\\n ------- \\n\"\n",
        "    \"Formulate an improved question:\"\n",
        ")\n",
        "\n",
        "\n",
        "def rewrite_question(state: MessagesState):\n",
        "    \"\"\"Rewrite the original user question.\"\"\"\n",
        "    messages = state[\"messages\"]\n",
        "    question = messages[0].content\n",
        "    prompt = REWRITE_PROMPT.format(question=question)\n",
        "    response = response_model.invoke([{\"role\": \"user\", \"content\": prompt}])\n",
        "    return {\"messages\": [{\"role\": \"user\", \"content\": response.content}]}"
      ],
      "metadata": {
        "id": "NmdGO4zvUy4F"
      },
      "execution_count": null,
      "outputs": []
    },
    {
      "cell_type": "code",
      "source": [
        "input = {\n",
        "    \"messages\": convert_to_messages(\n",
        "        [\n",
        "            {\n",
        "                \"role\": \"user\",\n",
        "                \"content\": \"What does Lilian Weng say about types of reward hacking?\",\n",
        "            },\n",
        "            {\n",
        "                \"role\": \"assistant\",\n",
        "                \"content\": \"\",\n",
        "                \"tool_calls\": [\n",
        "                    {\n",
        "                        \"id\": \"1\",\n",
        "                        \"name\": \"retrieve_blog_posts\",\n",
        "                        \"args\": {\"query\": \"types of reward hacking\"},\n",
        "                    }\n",
        "                ],\n",
        "            },\n",
        "            {\"role\": \"tool\", \"content\": \"meow\", \"tool_call_id\": \"1\"},\n",
        "        ]\n",
        "    )\n",
        "}\n",
        "\n",
        "response = rewrite_question(input)\n",
        "print(response[\"messages\"][-1][\"content\"])"
      ],
      "metadata": {
        "id": "7yIZkXNnU1mk"
      },
      "execution_count": null,
      "outputs": []
    },
    {
      "cell_type": "code",
      "source": [
        "GENERATE_PROMPT = (\n",
        "    \"You are an assistant for question-answering tasks. \"\n",
        "    \"Use the following pieces of retrieved context to answer the question. \"\n",
        "    \"If you don't know the answer, just say that you don't know. \"\n",
        "    \"Use three sentences maximum and keep the answer concise.\\n\"\n",
        "    \"Question: {question} \\n\"\n",
        "    \"Context: {context}\"\n",
        ")\n",
        "\n",
        "\n",
        "def generate_answer(state: MessagesState):\n",
        "    \"\"\"Generate an answer.\"\"\"\n",
        "    question = state[\"messages\"][0].content\n",
        "    context = state[\"messages\"][-1].content\n",
        "    prompt = GENERATE_PROMPT.format(question=question, context=context)\n",
        "    response = response_model.invoke([{\"role\": \"user\", \"content\": prompt}])\n",
        "    return {\"messages\": [response]}"
      ],
      "metadata": {
        "id": "oyKSBLRPU3rE"
      },
      "execution_count": null,
      "outputs": []
    },
    {
      "cell_type": "code",
      "source": [
        "input = {\n",
        "    \"messages\": convert_to_messages(\n",
        "        [\n",
        "            {\n",
        "                \"role\": \"user\",\n",
        "                \"content\": \"What does Lilian Weng say about types of reward hacking?\",\n",
        "            },\n",
        "            {\n",
        "                \"role\": \"assistant\",\n",
        "                \"content\": \"\",\n",
        "                \"tool_calls\": [\n",
        "                    {\n",
        "                        \"id\": \"1\",\n",
        "                        \"name\": \"retrieve_blog_posts\",\n",
        "                        \"args\": {\"query\": \"types of reward hacking\"},\n",
        "                    }\n",
        "                ],\n",
        "            },\n",
        "            {\n",
        "                \"role\": \"tool\",\n",
        "                \"content\": \"reward hacking can be categorized into two types: environment or goal misspecification, and reward tampering\",\n",
        "                \"tool_call_id\": \"1\",\n",
        "            },\n",
        "        ]\n",
        "    )\n",
        "}\n",
        "\n",
        "response = generate_answer(input)\n",
        "response[\"messages\"][-1].pretty_print()"
      ],
      "metadata": {
        "id": "fbmVT0M7U6lt"
      },
      "execution_count": null,
      "outputs": []
    },
    {
      "cell_type": "code",
      "source": [
        "from langgraph.graph import StateGraph, START, END\n",
        "from langgraph.prebuilt import ToolNode\n",
        "from langgraph.prebuilt import tools_condition\n",
        "\n",
        "workflow = StateGraph(MessagesState)\n",
        "\n",
        "# Define the nodes we will cycle between\n",
        "workflow.add_node(generate_query_or_respond)\n",
        "workflow.add_node(\"retrieve\", ToolNode([retriever_tool]))\n",
        "workflow.add_node(rewrite_question)\n",
        "workflow.add_node(generate_answer)\n",
        "\n",
        "workflow.add_edge(START, \"generate_query_or_respond\")\n",
        "\n",
        "# Decide whether to retrieve\n",
        "workflow.add_conditional_edges(\n",
        "    \"generate_query_or_respond\",\n",
        "    # Assess LLM decision (call `retriever_tool` tool or respond to the user)\n",
        "    tools_condition,\n",
        "    {\n",
        "        # Translate the condition outputs to nodes in our graph\n",
        "        \"tools\": \"retrieve\",\n",
        "        END: END,\n",
        "    },\n",
        ")\n",
        "\n",
        "# Edges taken after the `action` node is called.\n",
        "workflow.add_conditional_edges(\n",
        "    \"retrieve\",\n",
        "    # Assess agent decision\n",
        "    grade_documents,\n",
        ")\n",
        "workflow.add_edge(\"generate_answer\", END)\n",
        "workflow.add_edge(\"rewrite_question\", \"generate_query_or_respond\")\n",
        "\n",
        "# Compile\n",
        "graph = workflow.compile()"
      ],
      "metadata": {
        "id": "uENJu4jGU8av"
      },
      "execution_count": null,
      "outputs": []
    },
    {
      "cell_type": "code",
      "source": [
        "from IPython.display import Image, display\n",
        "\n",
        "display(Image(graph.get_graph().draw_mermaid_png()))"
      ],
      "metadata": {
        "id": "WTs7M-DtU_Bf"
      },
      "execution_count": null,
      "outputs": []
    },
    {
      "cell_type": "code",
      "source": [
        "for chunk in graph.stream(\n",
        "    {\n",
        "        \"messages\": [\n",
        "            {\n",
        "                \"role\": \"user\",\n",
        "                \"content\": \"What does Lilian Weng say about types of reward hacking?\",\n",
        "            }\n",
        "        ]\n",
        "    }\n",
        "):\n",
        "    for node, update in chunk.items():\n",
        "        print(\"Update from node\", node)\n",
        "        update[\"messages\"][-1].pretty_print()\n",
        "        print(\"\\n\\n\")"
      ],
      "metadata": {
        "id": "xauSOc9OU_9e"
      },
      "execution_count": null,
      "outputs": []
    },
    {
      "cell_type": "code",
      "source": [],
      "metadata": {
        "id": "V6tZmp-6VCM-"
      },
      "execution_count": null,
      "outputs": []
    }
  ]
}